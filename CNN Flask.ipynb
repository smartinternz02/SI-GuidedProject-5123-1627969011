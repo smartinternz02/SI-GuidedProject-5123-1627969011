{
 "cells": [
  {
   "cell_type": "code",
   "execution_count": 1,
   "metadata": {},
   "outputs": [],
   "source": [
    "from tensorflow.keras.models import Sequential\n",
    "from tensorflow.keras.layers import Dense,Convolution2D,MaxPooling2D,Flatten\n"
   ]
  },
  {
   "cell_type": "code",
   "execution_count": 2,
   "metadata": {},
   "outputs": [],
   "source": [
    "from tensorflow.keras.preprocessing.image import ImageDataGenerator"
   ]
  },
  {
   "cell_type": "code",
   "execution_count": 3,
   "metadata": {},
   "outputs": [],
   "source": [
    "train_datagen=ImageDataGenerator(rescale\n",
    "                                =1./255,shear_range=0.2,zoom_range=0.2,horizontal_flip=True)"
   ]
  },
  {
   "cell_type": "code",
   "execution_count": 4,
   "metadata": {},
   "outputs": [],
   "source": [
    "test_datagen=ImageDataGenerator(rescale\n",
    "                                =1./255)"
   ]
  },
  {
   "cell_type": "code",
   "execution_count": 5,
   "metadata": {},
   "outputs": [],
   "source": [
    "cnn=Sequential()"
   ]
  },
  {
   "cell_type": "code",
   "execution_count": 6,
   "metadata": {},
   "outputs": [
    {
     "ename": "SyntaxError",
     "evalue": "invalid syntax (<ipython-input-6-a3897a698231>, line 2)",
     "output_type": "error",
     "traceback": [
      "\u001b[1;36m  File \u001b[1;32m\"<ipython-input-6-a3897a698231>\"\u001b[1;36m, line \u001b[1;32m2\u001b[0m\n\u001b[1;33m    x_test = test_datagen.flow_from_directory(r \"C:/Desktop\\Extenship IBM\\\\Crop-animal data\\testset\",target_size = (64,64),batch_size = 32, class_mode = \"categorical\")\u001b[0m\n\u001b[1;37m                                                                                                   ^\u001b[0m\n\u001b[1;31mSyntaxError\u001b[0m\u001b[1;31m:\u001b[0m invalid syntax\n"
     ]
    }
   ],
   "source": [
    "x_train = train_datagen.flow_from_directory(r\"C:/Desktop\\Extenship IBM\\\\Crop-animal data\\trainset\",target_size = (64,64),batch_size = 32, class_mode = \"categorical\")\n",
    "x_test = test_datagen.flow_from_directory(r \"C:/Desktop\\Extenship IBM\\\\Crop-animal data\\testset\",target_size = (64,64),batch_size = 32, class_mode = \"categorical\")"
   ]
  },
  {
   "cell_type": "code",
   "execution_count": 7,
   "metadata": {},
   "outputs": [
    {
     "name": "stdout",
     "output_type": "stream",
     "text": [
      "Found 1495 images belonging to 5 classes.\n",
      "Found 640 images belonging to 5 classes.\n"
     ]
    }
   ],
   "source": [
    "x_train = train_datagen.flow_from_directory(r\"C:\\Users\\utkar\\Desktop\\EXTERNSHIP IBM\\Crop-animal data\\trainset\",target_size = (64,64),batch_size = 32, class_mode = \"categorical\")\n",
    "x_test = test_datagen.flow_from_directory(r\"C:\\Users\\utkar\\Desktop\\EXTERNSHIP IBM\\Crop-animal data\\testset\",target_size = (64,64),batch_size = 32, class_mode = \"categorical\")"
   ]
  },
  {
   "cell_type": "code",
   "execution_count": 8,
   "metadata": {},
   "outputs": [
    {
     "name": "stdout",
     "output_type": "stream",
     "text": [
      "WARNING:tensorflow:From C:\\Users\\utkar\\Anaconda3\\lib\\site-packages\\tensorflow\\python\\ops\\init_ops.py:1251: calling VarianceScaling.__init__ (from tensorflow.python.ops.init_ops) with dtype is deprecated and will be removed in a future version.\n",
      "Instructions for updating:\n",
      "Call initializer instance with the dtype argument instead of passing it to the constructor\n"
     ]
    }
   ],
   "source": [
    "cnn.add(Convolution2D(32,(3\n",
    "                          ,3),input_shape= (64,64,3)))"
   ]
  },
  {
   "cell_type": "code",
   "execution_count": 9,
   "metadata": {},
   "outputs": [],
   "source": [
    "cnn.add(MaxPooling2D((2,2)))"
   ]
  },
  {
   "cell_type": "code",
   "execution_count": 10,
   "metadata": {},
   "outputs": [],
   "source": [
    "cnn.add(Flatten())"
   ]
  },
  {
   "cell_type": "code",
   "execution_count": 11,
   "metadata": {},
   "outputs": [
    {
     "name": "stdout",
     "output_type": "stream",
     "text": [
      "WARNING:tensorflow:From C:\\Users\\utkar\\Anaconda3\\lib\\site-packages\\tensorflow\\python\\keras\\initializers.py:119: calling RandomUniform.__init__ (from tensorflow.python.ops.init_ops) with dtype is deprecated and will be removed in a future version.\n",
      "Instructions for updating:\n",
      "Call initializer instance with the dtype argument instead of passing it to the constructor\n"
     ]
    }
   ],
   "source": [
    "cnn.add(Dense(units =128 ,kernel_initializer = \"random_uniform\",activation = \"relu\"))"
   ]
  },
  {
   "cell_type": "code",
   "execution_count": 12,
   "metadata": {},
   "outputs": [],
   "source": [
    "cnn.add(Dense(units = 5  ,kernel_initializer = \"random_uniform\",activation = \"softmax\"))"
   ]
  },
  {
   "cell_type": "code",
   "execution_count": 13,
   "metadata": {},
   "outputs": [],
   "source": [
    "cnn.compile(optimizer = \"rmsprop\",loss = \"categorical_crossentropy\", metrics = [\"accuracy\"])"
   ]
  },
  {
   "cell_type": "code",
   "execution_count": 14,
   "metadata": {},
   "outputs": [
    {
     "name": "stdout",
     "output_type": "stream",
     "text": [
      "Epoch 1/35\n",
      "47/46 [==============================] - 11s 226ms/step - loss: 1.6282 - acc: 0.3405 - val_loss: 1.5518 - val_acc: 0.2328\n",
      "Epoch 2/35\n",
      "47/46 [==============================] - 6s 125ms/step - loss: 1.2748 - acc: 0.4910 - val_loss: 1.0603 - val_acc: 0.5516\n",
      "Epoch 3/35\n",
      "47/46 [==============================] - 6s 132ms/step - loss: 1.0894 - acc: 0.5900 - val_loss: 0.9301 - val_acc: 0.6172\n",
      "Epoch 4/35\n",
      "47/46 [==============================] - 6s 133ms/step - loss: 0.9663 - acc: 0.6435 - val_loss: 1.1886 - val_acc: 0.5297\n",
      "Epoch 5/35\n",
      "47/46 [==============================] - 6s 131ms/step - loss: 0.8771 - acc: 0.6682 - val_loss: 1.3540 - val_acc: 0.4766\n",
      "Epoch 6/35\n",
      "47/46 [==============================] - 7s 139ms/step - loss: 0.7511 - acc: 0.7124 - val_loss: 1.1704 - val_acc: 0.5375\n",
      "Epoch 7/35\n",
      "47/46 [==============================] - 7s 146ms/step - loss: 0.6950 - acc: 0.7338 - val_loss: 1.1683 - val_acc: 0.5656\n",
      "Epoch 8/35\n",
      "47/46 [==============================] - 7s 148ms/step - loss: 0.6086 - acc: 0.7692 - val_loss: 0.7236 - val_acc: 0.7000\n",
      "Epoch 9/35\n",
      "47/46 [==============================] - 7s 146ms/step - loss: 0.5628 - acc: 0.8060 - val_loss: 0.6338 - val_acc: 0.7563\n",
      "Epoch 10/35\n",
      "47/46 [==============================] - 7s 146ms/step - loss: 0.4915 - acc: 0.8301 - val_loss: 0.4557 - val_acc: 0.8313\n",
      "Epoch 11/35\n",
      "47/46 [==============================] - 7s 147ms/step - loss: 0.4183 - acc: 0.8656 - val_loss: 0.4247 - val_acc: 0.8453\n",
      "Epoch 12/35\n",
      "47/46 [==============================] - 7s 142ms/step - loss: 0.3857 - acc: 0.8709 - val_loss: 0.2087 - val_acc: 0.9359\n",
      "Epoch 13/35\n",
      "47/46 [==============================] - 7s 142ms/step - loss: 0.3506 - acc: 0.8883 - val_loss: 0.2616 - val_acc: 0.9125\n",
      "Epoch 14/35\n",
      "47/46 [==============================] - 7s 146ms/step - loss: 0.3209 - acc: 0.8970 - val_loss: 0.1611 - val_acc: 0.9391\n",
      "Epoch 15/35\n",
      "47/46 [==============================] - 7s 147ms/step - loss: 0.2815 - acc: 0.9037 - val_loss: 0.1436 - val_acc: 0.9531\n",
      "Epoch 16/35\n",
      "47/46 [==============================] - 7s 148ms/step - loss: 0.2237 - acc: 0.9304 - val_loss: 0.2139 - val_acc: 0.9344\n",
      "Epoch 17/35\n",
      "47/46 [==============================] - 7s 145ms/step - loss: 0.1869 - acc: 0.9418 - val_loss: 0.1839 - val_acc: 0.9500\n",
      "Epoch 18/35\n",
      "47/46 [==============================] - 7s 144ms/step - loss: 0.2216 - acc: 0.9271 - val_loss: 0.0777 - val_acc: 0.9766\n",
      "Epoch 19/35\n",
      "47/46 [==============================] - 7s 145ms/step - loss: 0.1681 - acc: 0.9445 - val_loss: 0.0652 - val_acc: 0.9828\n",
      "Epoch 20/35\n",
      "47/46 [==============================] - 7s 148ms/step - loss: 0.1685 - acc: 0.9472 - val_loss: 0.0726 - val_acc: 0.9828\n",
      "Epoch 21/35\n",
      "47/46 [==============================] - 7s 145ms/step - loss: 0.1525 - acc: 0.9572 - val_loss: 0.0668 - val_acc: 0.9797\n",
      "Epoch 22/35\n",
      "47/46 [==============================] - 7s 145ms/step - loss: 0.1479 - acc: 0.9518 - val_loss: 0.2482 - val_acc: 0.8984\n",
      "Epoch 23/35\n",
      "47/46 [==============================] - 7s 143ms/step - loss: 0.1102 - acc: 0.9672 - val_loss: 0.0385 - val_acc: 0.9891\n",
      "Epoch 24/35\n",
      "47/46 [==============================] - 7s 143ms/step - loss: 0.1248 - acc: 0.9645 - val_loss: 0.1183 - val_acc: 0.9641\n",
      "Epoch 25/35\n",
      "47/46 [==============================] - 7s 148ms/step - loss: 0.1126 - acc: 0.9666 - val_loss: 0.0612 - val_acc: 0.9766\n",
      "Epoch 26/35\n",
      "47/46 [==============================] - 7s 145ms/step - loss: 0.1199 - acc: 0.9632 - val_loss: 0.0263 - val_acc: 0.9953\n",
      "Epoch 27/35\n",
      "47/46 [==============================] - 7s 144ms/step - loss: 0.0812 - acc: 0.9773 - val_loss: 0.0375 - val_acc: 0.9859\n",
      "Epoch 28/35\n",
      "47/46 [==============================] - 7s 145ms/step - loss: 0.0880 - acc: 0.9753 - val_loss: 0.0485 - val_acc: 0.9812\n",
      "Epoch 29/35\n",
      "47/46 [==============================] - 7s 144ms/step - loss: 0.1006 - acc: 0.9712 - val_loss: 0.0358 - val_acc: 0.9953\n",
      "Epoch 30/35\n",
      "47/46 [==============================] - 7s 145ms/step - loss: 0.0806 - acc: 0.9726 - val_loss: 0.0398 - val_acc: 0.9859\n",
      "Epoch 31/35\n",
      "47/46 [==============================] - 7s 146ms/step - loss: 0.0808 - acc: 0.9746 - val_loss: 0.0247 - val_acc: 0.9969\n",
      "Epoch 32/35\n",
      "47/46 [==============================] - 7s 144ms/step - loss: 0.0801 - acc: 0.9793 - val_loss: 0.0569 - val_acc: 0.9812\n",
      "Epoch 33/35\n",
      "47/46 [==============================] - 7s 148ms/step - loss: 0.0880 - acc: 0.9759 - val_loss: 0.0346 - val_acc: 0.9906\n",
      "Epoch 34/35\n",
      "47/46 [==============================] - 7s 150ms/step - loss: 0.0891 - acc: 0.9732 - val_loss: 0.0253 - val_acc: 0.9953\n",
      "Epoch 35/35\n",
      "47/46 [==============================] - 7s 147ms/step - loss: 0.0621 - acc: 0.9873 - val_loss: 0.0374 - val_acc: 0.9922\n"
     ]
    },
    {
     "data": {
      "text/plain": [
       "<tensorflow.python.keras.callbacks.History at 0x23ad56cca20>"
      ]
     },
     "execution_count": 14,
     "metadata": {},
     "output_type": "execute_result"
    }
   ],
   "source": [
    "cnn.fit_generator(x_train , steps_per_epoch = 1495/32 , epochs = 35, validation_data = x_test , validation_steps = 640/32 )"
   ]
  },
  {
   "cell_type": "code",
   "execution_count": 15,
   "metadata": {},
   "outputs": [],
   "source": [
    "cnn.save(\"Animal.h5\")"
   ]
  },
  {
   "cell_type": "code",
   "execution_count": 16,
   "metadata": {},
   "outputs": [],
   "source": [
    "from tensorflow.keras.models import load_model\n",
    "from tensorflow.keras.preprocessing import image"
   ]
  },
  {
   "cell_type": "code",
   "execution_count": 17,
   "metadata": {},
   "outputs": [
    {
     "name": "stdout",
     "output_type": "stream",
     "text": [
      "WARNING:tensorflow:From C:\\Users\\utkar\\Anaconda3\\lib\\site-packages\\tensorflow\\python\\ops\\init_ops.py:97: calling GlorotUniform.__init__ (from tensorflow.python.ops.init_ops) with dtype is deprecated and will be removed in a future version.\n",
      "Instructions for updating:\n",
      "Call initializer instance with the dtype argument instead of passing it to the constructor\n",
      "WARNING:tensorflow:From C:\\Users\\utkar\\Anaconda3\\lib\\site-packages\\tensorflow\\python\\ops\\init_ops.py:97: calling Zeros.__init__ (from tensorflow.python.ops.init_ops) with dtype is deprecated and will be removed in a future version.\n",
      "Instructions for updating:\n",
      "Call initializer instance with the dtype argument instead of passing it to the constructor\n"
     ]
    }
   ],
   "source": [
    "model = load_model(\"Animal.h5\")"
   ]
  },
  {
   "cell_type": "code",
   "execution_count": 21,
   "metadata": {},
   "outputs": [
    {
     "ename": "FileNotFoundError",
     "evalue": "[Errno 2] No such file or directory: 'bear.jpg'",
     "output_type": "error",
     "traceback": [
      "\u001b[1;31m---------------------------------------------------------------------------\u001b[0m",
      "\u001b[1;31mFileNotFoundError\u001b[0m                         Traceback (most recent call last)",
      "\u001b[1;32m<ipython-input-21-1a416dc7a054>\u001b[0m in \u001b[0;36m<module>\u001b[1;34m\u001b[0m\n\u001b[1;32m----> 1\u001b[1;33m \u001b[0mimg\u001b[0m \u001b[1;33m=\u001b[0m \u001b[0mimage\u001b[0m\u001b[1;33m.\u001b[0m\u001b[0mload_img\u001b[0m\u001b[1;33m(\u001b[0m\u001b[1;34m\"bear.jpg\"\u001b[0m\u001b[1;33m,\u001b[0m\u001b[0mtarget_size\u001b[0m \u001b[1;33m=\u001b[0m \u001b[1;33m(\u001b[0m\u001b[1;36m64\u001b[0m\u001b[1;33m,\u001b[0m\u001b[1;36m64\u001b[0m\u001b[1;33m)\u001b[0m\u001b[1;33m)\u001b[0m\u001b[1;33m\u001b[0m\u001b[1;33m\u001b[0m\u001b[0m\n\u001b[0m",
      "\u001b[1;32m~\\Anaconda3\\lib\\site-packages\\keras_preprocessing\\image\\utils.py\u001b[0m in \u001b[0;36mload_img\u001b[1;34m(path, grayscale, color_mode, target_size, interpolation)\u001b[0m\n\u001b[0;32m    111\u001b[0m         raise ImportError('Could not import PIL.Image. '\n\u001b[0;32m    112\u001b[0m                           'The use of `load_img` requires PIL.')\n\u001b[1;32m--> 113\u001b[1;33m     \u001b[1;32mwith\u001b[0m \u001b[0mopen\u001b[0m\u001b[1;33m(\u001b[0m\u001b[0mpath\u001b[0m\u001b[1;33m,\u001b[0m \u001b[1;34m'rb'\u001b[0m\u001b[1;33m)\u001b[0m \u001b[1;32mas\u001b[0m \u001b[0mf\u001b[0m\u001b[1;33m:\u001b[0m\u001b[1;33m\u001b[0m\u001b[1;33m\u001b[0m\u001b[0m\n\u001b[0m\u001b[0;32m    114\u001b[0m         \u001b[0mimg\u001b[0m \u001b[1;33m=\u001b[0m \u001b[0mpil_image\u001b[0m\u001b[1;33m.\u001b[0m\u001b[0mopen\u001b[0m\u001b[1;33m(\u001b[0m\u001b[0mio\u001b[0m\u001b[1;33m.\u001b[0m\u001b[0mBytesIO\u001b[0m\u001b[1;33m(\u001b[0m\u001b[0mf\u001b[0m\u001b[1;33m.\u001b[0m\u001b[0mread\u001b[0m\u001b[1;33m(\u001b[0m\u001b[1;33m)\u001b[0m\u001b[1;33m)\u001b[0m\u001b[1;33m)\u001b[0m\u001b[1;33m\u001b[0m\u001b[1;33m\u001b[0m\u001b[0m\n\u001b[0;32m    115\u001b[0m         \u001b[1;32mif\u001b[0m \u001b[0mcolor_mode\u001b[0m \u001b[1;33m==\u001b[0m \u001b[1;34m'grayscale'\u001b[0m\u001b[1;33m:\u001b[0m\u001b[1;33m\u001b[0m\u001b[1;33m\u001b[0m\u001b[0m\n",
      "\u001b[1;31mFileNotFoundError\u001b[0m: [Errno 2] No such file or directory: 'bear.jpg'"
     ]
    }
   ],
   "source": [
    "img = image.load_img(\"bear.jpg\",target_size = (64,64))"
   ]
  },
  {
   "cell_type": "code",
   "execution_count": 19,
   "metadata": {},
   "outputs": [
    {
     "ename": "NameError",
     "evalue": "name 'img' is not defined",
     "output_type": "error",
     "traceback": [
      "\u001b[1;31m---------------------------------------------------------------------------\u001b[0m",
      "\u001b[1;31mNameError\u001b[0m                                 Traceback (most recent call last)",
      "\u001b[1;32m<ipython-input-19-a85b415ea517>\u001b[0m in \u001b[0;36m<module>\u001b[1;34m\u001b[0m\n\u001b[1;32m----> 1\u001b[1;33m \u001b[0mtype\u001b[0m\u001b[1;33m(\u001b[0m\u001b[0mimg\u001b[0m\u001b[1;33m)\u001b[0m\u001b[1;33m\u001b[0m\u001b[1;33m\u001b[0m\u001b[0m\n\u001b[0m",
      "\u001b[1;31mNameError\u001b[0m: name 'img' is not defined"
     ]
    }
   ],
   "source": [
    "type(img)"
   ]
  },
  {
   "cell_type": "code",
   "execution_count": 22,
   "metadata": {},
   "outputs": [
    {
     "ename": "NameError",
     "evalue": "name 'img' is not defined",
     "output_type": "error",
     "traceback": [
      "\u001b[1;31m---------------------------------------------------------------------------\u001b[0m",
      "\u001b[1;31mNameError\u001b[0m                                 Traceback (most recent call last)",
      "\u001b[1;32m<ipython-input-22-9984846e5bd2>\u001b[0m in \u001b[0;36m<module>\u001b[1;34m\u001b[0m\n\u001b[1;32m----> 1\u001b[1;33m \u001b[0mx\u001b[0m \u001b[1;33m=\u001b[0m \u001b[0mimage\u001b[0m\u001b[1;33m.\u001b[0m\u001b[0mimg_to_array\u001b[0m\u001b[1;33m(\u001b[0m\u001b[0mimg\u001b[0m\u001b[1;33m)\u001b[0m\u001b[1;33m\u001b[0m\u001b[1;33m\u001b[0m\u001b[0m\n\u001b[0m",
      "\u001b[1;31mNameError\u001b[0m: name 'img' is not defined"
     ]
    }
   ],
   "source": [
    "x = image.img_to_array(img)"
   ]
  },
  {
   "cell_type": "code",
   "execution_count": 23,
   "metadata": {},
   "outputs": [
    {
     "ename": "NameError",
     "evalue": "name 'x' is not defined",
     "output_type": "error",
     "traceback": [
      "\u001b[1;31m---------------------------------------------------------------------------\u001b[0m",
      "\u001b[1;31mNameError\u001b[0m                                 Traceback (most recent call last)",
      "\u001b[1;32m<ipython-input-23-9f2b259887ef>\u001b[0m in \u001b[0;36m<module>\u001b[1;34m\u001b[0m\n\u001b[1;32m----> 1\u001b[1;33m \u001b[0mx\u001b[0m\u001b[1;33m.\u001b[0m\u001b[0mshape\u001b[0m\u001b[1;33m\u001b[0m\u001b[1;33m\u001b[0m\u001b[0m\n\u001b[0m",
      "\u001b[1;31mNameError\u001b[0m: name 'x' is not defined"
     ]
    }
   ],
   "source": [
    "x.shape"
   ]
  },
  {
   "cell_type": "code",
   "execution_count": 24,
   "metadata": {},
   "outputs": [
    {
     "ename": "ModuleNotFoundError",
     "evalue": "No module named 'Flask'",
     "output_type": "error",
     "traceback": [
      "\u001b[1;31m---------------------------------------------------------------------------\u001b[0m",
      "\u001b[1;31mModuleNotFoundError\u001b[0m                       Traceback (most recent call last)",
      "\u001b[1;32m<ipython-input-24-cfb0e0336d96>\u001b[0m in \u001b[0;36m<module>\u001b[1;34m\u001b[0m\n\u001b[1;32m----> 1\u001b[1;33m \u001b[1;32mfrom\u001b[0m \u001b[0mFlask\u001b[0m \u001b[1;32mimport\u001b[0m \u001b[0mFlask\u001b[0m\u001b[1;33m\u001b[0m\u001b[1;33m\u001b[0m\u001b[0m\n\u001b[0m",
      "\u001b[1;31mModuleNotFoundError\u001b[0m: No module named 'Flask'"
     ]
    }
   ],
   "source": [
    "from Flask import Flask"
   ]
  },
  {
   "cell_type": "code",
   "execution_count": 25,
   "metadata": {},
   "outputs": [
    {
     "ename": "NameError",
     "evalue": "name 'pred' is not defined",
     "output_type": "error",
     "traceback": [
      "\u001b[1;31m---------------------------------------------------------------------------\u001b[0m",
      "\u001b[1;31mNameError\u001b[0m                                 Traceback (most recent call last)",
      "\u001b[1;32m<ipython-input-25-c6fc79dbd350>\u001b[0m in \u001b[0;36m<module>\u001b[1;34m\u001b[0m\n\u001b[1;32m----> 1\u001b[1;33m \u001b[0mpred\u001b[0m\u001b[1;33m\u001b[0m\u001b[1;33m\u001b[0m\u001b[0m\n\u001b[0m",
      "\u001b[1;31mNameError\u001b[0m: name 'pred' is not defined"
     ]
    }
   ],
   "source": [
    "pred"
   ]
  },
  {
   "cell_type": "code",
   "execution_count": null,
   "metadata": {},
   "outputs": [],
   "source": []
  }
 ],
 "metadata": {
  "kernelspec": {
   "display_name": "Python 3",
   "language": "python",
   "name": "python3"
  },
  "language_info": {
   "codemirror_mode": {
    "name": "ipython",
    "version": 3
   },
   "file_extension": ".py",
   "mimetype": "text/x-python",
   "name": "python",
   "nbconvert_exporter": "python",
   "pygments_lexer": "ipython3",
   "version": "3.7.3"
  }
 },
 "nbformat": 4,
 "nbformat_minor": 2
}
